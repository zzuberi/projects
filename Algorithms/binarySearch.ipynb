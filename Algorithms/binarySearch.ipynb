{
  "cells": [
    {
      "cell_type": "code",
      "execution_count": null,
      "outputs": [],
      "source": "a \u003d [2,0,9,8,3,4,5,7]",
      "metadata": {
        "pycharm": {
          "metadata": false,
          "name": "#%%\n"
        }
      }
    },
    {
      "cell_type": "code",
      "execution_count": null,
      "outputs": [],
      "source": "def binarySearch(a,e,l,r):\n    if l \u003e r: return -1\n    \n    mid \u003d (l+r)/2\n    if a[mid] \u003c e:\n        return binarySearch(a,e,mid+1,r)\n    elif a[mid] \u003e e:\n        return binarySearch(a,e,l,mid-1)\n    else:\n        return a[mid]\n\ndef search(a,e):\n    return binarySearch(a,e,0,len(a)-1)",
      "metadata": {
        "pycharm": {
          "metadata": false,
          "name": "#%%\n"
        }
      }
    },
    {
      "cell_type": "code",
      "execution_count": null,
      "outputs": [],
      "source": "def quickSort(a,l,r):\n    index \u003d partition(a,l,r)\n    \n    if l \u003c index -1:\n        quickSort(a,l,index - 1)\n    if r \u003e index:\n        quickSort(a,index, r)\n    \ndef partition(a,l,r):\n    pivot \u003d a[(l+r)/2]\n    while l \u003c\u003d r:\n        while a[l] \u003c pivot: l +\u003d 1\n        while a[r] \u003e pivot: r -\u003d 1\n        \n        if l \u003c\u003d r:\n            temp \u003d a[l]\n            a[l] \u003d a[r]\n            a[r] \u003d temp\n            l +\u003d 1\n            r -\u003d 1\n    return l\n\ndef sort(a):\n    quickSort(a,0,len(a) -1 )",
      "metadata": {
        "pycharm": {
          "metadata": false,
          "name": "#%%\n"
        }
      }
    },
    {
      "cell_type": "code",
      "execution_count": null,
      "outputs": [],
      "source": "a \u003d [1,8,7,2,3,6,4,5]\nsort(a)\nprint(a)",
      "metadata": {
        "pycharm": {
          "metadata": false,
          "name": "#%%\n"
        }
      }
    },
    {
      "cell_type": "code",
      "execution_count": null,
      "outputs": [],
      "source": "print(search(a,0))",
      "metadata": {
        "pycharm": {
          "metadata": false,
          "name": "#%%\n"
        }
      }
    },
    {
      "cell_type": "code",
      "execution_count": null,
      "outputs": [],
      "source": "from sklearn.neighbors import KNeighborsClassifier",
      "metadata": {
        "pycharm": {
          "metadata": false,
          "name": "#%%\n"
        }
      }
    },
    {
      "cell_type": "code",
      "execution_count": null,
      "outputs": [],
      "source": "classifier \u003d KNeighborsClassifier()",
      "metadata": {
        "pycharm": {
          "metadata": false,
          "name": "#%%\n"
        }
      }
    },
    {
      "cell_type": "code",
      "execution_count": null,
      "outputs": [],
      "source": "test \u003d [[1,2,3],[4,5,6],[7,8,9]]\ntest1 \u003d [[5,8,3]]\nprint(test)\nprint(test1)\ntest1.append(test)\nprint(test1)\ntest1 \u003d [[5,8,3]]\ntest1.extend(test)\nprint(test1)",
      "metadata": {
        "pycharm": {
          "metadata": false,
          "name": "#%%\n"
        }
      }
    },
    {
      "cell_type": "code",
      "execution_count": null,
      "metadata": {
        "collapsed": true,
        "pycharm": {}
      },
      "outputs": [],
      "source": ""
    }
  ],
  "metadata": {
    "language_info": {
      "codemirror_mode": {
        "name": "ipython",
        "version": 2
      },
      "file_extension": ".py",
      "mimetype": "text/x-python",
      "name": "python",
      "nbconvert_exporter": "python",
      "pygments_lexer": "ipython2",
      "version": "2.7.6"
    },
    "kernelspec": {
      "name": "python3",
      "language": "python",
      "display_name": "Python 3"
    },
    "stem_cell": {
      "cell_type": "raw",
      "source": "",
      "metadata": {
        "pycharm": {
          "metadata": false
        }
      }
    }
  },
  "nbformat": 4,
  "nbformat_minor": 0
}