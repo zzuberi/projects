{
  "cells": [
    {
      "cell_type": "code",
      "execution_count": null,
      "outputs": [],
      "source": "class Heap:\n    def __init__(self,e\u003dNone,order\u003d\u0027min\u0027):\n        if order \u003d\u003d \u0027min\u0027:\n            self.cmp \u003d self.lt\n        elif order \u003d\u003d \u0027max\u0027:\n            self.cmp \u003d self.gt\n        \n        if e is not None:\n            self.heap \u003d [e]\n        else:\n            self.heap \u003d list()\n            \n    def lt(self,a,b):\n        if a \u003c b: return True\n        else: return False\n        \n    def gt(self,a,b):\n        if a \u003e b: return True\n        else: return False\n        \n    def push(self,e):\n        self.heap.append(e)\n        index \u003d len(self.heap) - 1\n        self.siftup(index)\n        \n    def siftup(self,index):\n        if index \u003d\u003d 0:\n            return\n        \n        if index%2 \u003d\u003d 1: parent \u003d (index - 1)/2\n        else: parent \u003d (index - 2)/2\n        \n        if not self.cmp(self.heap[parent],self.heap[index]):\n            temp \u003d self.heap[parent]\n            self.heap[parent] \u003d self.heap[index]\n            self.heap[index] \u003d temp\n        \n            self.siftup(parent)\n\n    def pop(self):\n        minval \u003d self.heap[0]\n        \n        self.heap[0] \u003d self.heap[-1]\n        del self.heap[-1]\n        \n        self.siftdown(0)\n        return minval\n    \n    def siftdown(self,index):\n        if index \u003d\u003d len(self.heap) - 1:\n            return\n        \n        for x in range(1,3):\n            child \u003d 2*index + x\n            if child \u003c len(self.heap) and not self.cmp(self.heap[index],self.heap[child]):\n                temp \u003d self.heap[index]\n                self.heap[index] \u003d self.heap[child]\n                self.heap[child] \u003d temp\n\n                self.siftdown(child)\n    \n    def __str__(self):\n        return str(self.heap)\n    \n    ",
      "metadata": {
        "pycharm": {
          "metadata": false,
          "name": "#%%\n"
        }
      }
    },
    {
      "cell_type": "code",
      "execution_count": null,
      "outputs": [],
      "source": "def buildheap(a):\n    for x in range((len(a) - 1)/2,0,-1):\n        heapify(a,x)\n\ndef heapify(a,parent):\n    lchild \u003d 2*parent + 1\n    rchild \u003d 2*parent + 2\n    \n    smallest \u003d parent\n    \n    if lchild \u003c len(a) and a[lchild] \u003c a[smallest]:\n        smallest \u003d lchild\n    if rchild \u003c len(a) and a[rchild] \u003c a[smallest]:\n        smallest \u003d rchild\n    \n    if smallest !\u003d parent:\n        swap(a,parent,smallest)\n        heapify(a,smallest)\n        ",
      "metadata": {
        "pycharm": {
          "metadata": false,
          "name": "#%%\n"
        }
      }
    },
    {
      "cell_type": "code",
      "execution_count": null,
      "outputs": [],
      "source": "a \u003d [1,8,7,2,3,6,4,5]\nbuildheap(a)\nprint(a)\n\na \u003d [1,8,7,2,3,6,4,5]\nheap \u003d Heap(order\u003d\u0027min\u0027)\nfor x in a:\n    heap.push(x)\nprint(heap)\n",
      "metadata": {
        "pycharm": {
          "metadata": false,
          "name": "#%%\n"
        }
      }
    },
    {
      "cell_type": "code",
      "execution_count": null,
      "metadata": {
        "collapsed": true,
        "pycharm": {}
      },
      "outputs": [],
      "source": ""
    }
  ],
  "metadata": {
    "language_info": {
      "codemirror_mode": {
        "name": "ipython",
        "version": 2
      },
      "file_extension": ".py",
      "mimetype": "text/x-python",
      "name": "python",
      "nbconvert_exporter": "python",
      "pygments_lexer": "ipython2",
      "version": "2.7.6"
    },
    "kernelspec": {
      "name": "python3",
      "language": "python",
      "display_name": "Python 3"
    },
    "stem_cell": {
      "cell_type": "raw",
      "source": "",
      "metadata": {
        "pycharm": {
          "metadata": false
        }
      }
    }
  },
  "nbformat": 4,
  "nbformat_minor": 0
}